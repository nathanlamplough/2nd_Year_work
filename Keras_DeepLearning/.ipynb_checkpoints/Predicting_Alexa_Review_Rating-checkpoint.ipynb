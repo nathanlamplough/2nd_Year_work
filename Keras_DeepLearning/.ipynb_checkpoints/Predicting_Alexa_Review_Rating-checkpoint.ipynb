{
 "cells": [
  {
   "cell_type": "markdown",
   "metadata": {},
   "source": [
    "Predicting the star rating of an Amazon Alexa review based off the review text using a neural network"
   ]
  },
  {
   "cell_type": "code",
   "execution_count": 94,
   "metadata": {},
   "outputs": [
    {
     "data": {
      "text/html": [
       "<div>\n",
       "<style scoped>\n",
       "    .dataframe tbody tr th:only-of-type {\n",
       "        vertical-align: middle;\n",
       "    }\n",
       "\n",
       "    .dataframe tbody tr th {\n",
       "        vertical-align: top;\n",
       "    }\n",
       "\n",
       "    .dataframe thead th {\n",
       "        text-align: right;\n",
       "    }\n",
       "</style>\n",
       "<table border=\"1\" class=\"dataframe\">\n",
       "  <thead>\n",
       "    <tr style=\"text-align: right;\">\n",
       "      <th></th>\n",
       "      <th>rating</th>\n",
       "      <th>date</th>\n",
       "      <th>variation</th>\n",
       "      <th>verified_reviews</th>\n",
       "      <th>feedback</th>\n",
       "    </tr>\n",
       "  </thead>\n",
       "  <tbody>\n",
       "    <tr>\n",
       "      <th>0</th>\n",
       "      <td>5</td>\n",
       "      <td>30-Jul-18</td>\n",
       "      <td>Configuration: Fire TV Stick</td>\n",
       "      <td>Really enjoying my firestick can’t wait to get...</td>\n",
       "      <td>1</td>\n",
       "    </tr>\n",
       "    <tr>\n",
       "      <th>1</th>\n",
       "      <td>5</td>\n",
       "      <td>29-Jul-18</td>\n",
       "      <td>Black  Spot</td>\n",
       "      <td>\"Great product! Highly recommend getting the s...</td>\n",
       "      <td>1</td>\n",
       "    </tr>\n",
       "    <tr>\n",
       "      <th>2</th>\n",
       "      <td>5</td>\n",
       "      <td>30-Jul-18</td>\n",
       "      <td>Charcoal Fabric</td>\n",
       "      <td>I love it. It plays my sleep sounds immediatel...</td>\n",
       "      <td>1</td>\n",
       "    </tr>\n",
       "    <tr>\n",
       "      <th>3</th>\n",
       "      <td>5</td>\n",
       "      <td>30-Jul-18</td>\n",
       "      <td>Configuration: Fire TV Stick</td>\n",
       "      <td>availability of movies and nothing I don't like</td>\n",
       "      <td>1</td>\n",
       "    </tr>\n",
       "    <tr>\n",
       "      <th>4</th>\n",
       "      <td>4</td>\n",
       "      <td>30-Jul-18</td>\n",
       "      <td>Black  Plus</td>\n",
       "      <td>\"Awesome product, very responsive!Alexa just n...</td>\n",
       "      <td>1</td>\n",
       "    </tr>\n",
       "    <tr>\n",
       "      <th>5</th>\n",
       "      <td>4</td>\n",
       "      <td>31-Jul-18</td>\n",
       "      <td>Black  Dot</td>\n",
       "      <td>I like how it will connect to bluetooth withou...</td>\n",
       "      <td>1</td>\n",
       "    </tr>\n",
       "    <tr>\n",
       "      <th>6</th>\n",
       "      <td>4</td>\n",
       "      <td>25-Jul-18</td>\n",
       "      <td>Black</td>\n",
       "      <td>Refurbished is the way to go. My Echo works ju...</td>\n",
       "      <td>1</td>\n",
       "    </tr>\n",
       "    <tr>\n",
       "      <th>7</th>\n",
       "      <td>5</td>\n",
       "      <td>29-Jul-18</td>\n",
       "      <td>White  Show</td>\n",
       "      <td>Love being able to read the lyrics of my favor...</td>\n",
       "      <td>1</td>\n",
       "    </tr>\n",
       "    <tr>\n",
       "      <th>8</th>\n",
       "      <td>5</td>\n",
       "      <td>30-Jul-18</td>\n",
       "      <td>White  Spot</td>\n",
       "      <td>I love it.  It is so easy to use</td>\n",
       "      <td>1</td>\n",
       "    </tr>\n",
       "    <tr>\n",
       "      <th>9</th>\n",
       "      <td>4</td>\n",
       "      <td>27-Jul-18</td>\n",
       "      <td>White  Spot</td>\n",
       "      <td>Works well and was easy to set up.</td>\n",
       "      <td>1</td>\n",
       "    </tr>\n",
       "  </tbody>\n",
       "</table>\n",
       "</div>"
      ],
      "text/plain": [
       "   rating       date                     variation  \\\n",
       "0       5  30-Jul-18  Configuration: Fire TV Stick   \n",
       "1       5  29-Jul-18                   Black  Spot   \n",
       "2       5  30-Jul-18              Charcoal Fabric    \n",
       "3       5  30-Jul-18  Configuration: Fire TV Stick   \n",
       "4       4  30-Jul-18                   Black  Plus   \n",
       "5       4  31-Jul-18                    Black  Dot   \n",
       "6       4  25-Jul-18                         Black   \n",
       "7       5  29-Jul-18                   White  Show   \n",
       "8       5  30-Jul-18                   White  Spot   \n",
       "9       4  27-Jul-18                   White  Spot   \n",
       "\n",
       "                                    verified_reviews  feedback  \n",
       "0  Really enjoying my firestick can’t wait to get...         1  \n",
       "1  \"Great product! Highly recommend getting the s...         1  \n",
       "2  I love it. It plays my sleep sounds immediatel...         1  \n",
       "3    availability of movies and nothing I don't like         1  \n",
       "4  \"Awesome product, very responsive!Alexa just n...         1  \n",
       "5  I like how it will connect to bluetooth withou...         1  \n",
       "6  Refurbished is the way to go. My Echo works ju...         1  \n",
       "7  Love being able to read the lyrics of my favor...         1  \n",
       "8                   I love it.  It is so easy to use         1  \n",
       "9                 Works well and was easy to set up.         1  "
      ]
     },
     "execution_count": 94,
     "metadata": {},
     "output_type": "execute_result"
    }
   ],
   "source": [
    "import numpy as np\n",
    "import pandas as pd\n",
    "import matplotlib.pyplot as plt\n",
    "from keras import optimizers\n",
    "from keras import losses\n",
    "from keras import metrics\n",
    "from keras import models\n",
    "from keras import layers\n",
    "dataset1 = pd.read_csv('C:/Users/natha/Desktop/GitRepo/NathanLamplough/Keras_DeepLearning\\Data/amazon_alexa.tsv', delimiter = '\\t', quoting = 3)\n",
    "#shuffling the data using the original index\n",
    "dataset = dataset1.sample(frac=1).reset_index(drop=True)\n",
    "dataset[:10]"
   ]
  },
  {
   "cell_type": "code",
   "execution_count": 51,
   "metadata": {},
   "outputs": [],
   "source": [
    "#remove stop words and stem(doing -> do, trusted -> trust)\n",
    "import re\n",
    "import nltk\n",
    "from nltk.corpus import stopwords\n",
    "from nltk.stem.porter import PorterStemmer\n",
    "corpus=[]\n",
    "for i in range(0, len(dataset)):\n",
    "    review = re.sub('[^a-zA-Z]', ' ', dataset['verified_reviews'][i] )\n",
    "    review=review.lower()\n",
    "    review=review.split()\n",
    "    ps=PorterStemmer()\n",
    "    review=[ps.stem(word) for word in review if not word in set(stopwords.words('english'))]\n",
    "    review=' '.join(review)\n",
    "    corpus.append(review)"
   ]
  },
  {
   "cell_type": "code",
   "execution_count": 52,
   "metadata": {},
   "outputs": [],
   "source": [
    "#creating a bag of words model\n",
    "from sklearn.feature_extraction.text import CountVectorizer\n",
    "cv=CountVectorizer(max_features=1500)\n",
    "X=cv.fit_transform(corpus).toarray()\n",
    "y=dataset.iloc[:,0].values"
   ]
  },
  {
   "cell_type": "code",
   "execution_count": 93,
   "metadata": {},
   "outputs": [],
   "source": [
    "#changing ratings label to one hot vectors e.g 3 star rating would be [0,0,1,0,0]\n",
    "def to_one_hot(labels, dimension = 5):\n",
    "    results = np.zeros((len(labels), dimension))\n",
    "    for i, label in enumerate(labels):\n",
    "        results[i, label-1] = 1.\n",
    "    return results\n",
    "one_hot_labels = to_one_hot(y)\n",
    "\n",
    "#splitting data in to train, validation and test sets\n",
    "\n",
    "val_y = one_hot_labels[:800]\n",
    "train_y = one_hot_labels[800:2150]\n",
    "test_y = one_hot_labels[2150:3150]\n",
    "num_test_y = y[2150:3150]\n",
    "\n",
    "val_x = X[:800]\n",
    "train_x = X[800:2150]\n",
    "test_x = X[2150:3150]"
   ]
  },
  {
   "cell_type": "code",
   "execution_count": 101,
   "metadata": {},
   "outputs": [
    {
     "name": "stdout",
     "output_type": "stream",
     "text": [
      "Train on 1350 samples, validate on 800 samples\n",
      "Epoch 1/10\n",
      "1350/1350 [==============================] - 1s 380us/step - loss: 1.5325 - acc: 0.6874 - val_loss: 1.4470 - val_acc: 0.7200\n",
      "Epoch 2/10\n",
      "1350/1350 [==============================] - 0s 69us/step - loss: 1.3862 - acc: 0.7207 - val_loss: 1.3278 - val_acc: 0.7200\n",
      "Epoch 3/10\n",
      "1350/1350 [==============================] - 0s 64us/step - loss: 1.2714 - acc: 0.7207 - val_loss: 1.2301 - val_acc: 0.7200\n",
      "Epoch 4/10\n",
      "1350/1350 [==============================] - 0s 66us/step - loss: 1.1580 - acc: 0.7207 - val_loss: 1.1518 - val_acc: 0.7200\n",
      "Epoch 5/10\n",
      "1350/1350 [==============================] - 0s 62us/step - loss: 1.0760 - acc: 0.7207 - val_loss: 1.0816 - val_acc: 0.7200\n",
      "Epoch 6/10\n",
      "1350/1350 [==============================] - 0s 63us/step - loss: 0.9918 - acc: 0.7215 - val_loss: 1.0258 - val_acc: 0.7200\n",
      "Epoch 7/10\n",
      "1350/1350 [==============================] - 0s 69us/step - loss: 0.9272 - acc: 0.7207 - val_loss: 0.9738 - val_acc: 0.7212\n",
      "Epoch 8/10\n",
      "1350/1350 [==============================] - 0s 67us/step - loss: 0.8653 - acc: 0.7222 - val_loss: 0.9298 - val_acc: 0.7212\n",
      "Epoch 9/10\n",
      "1350/1350 [==============================] - 0s 66us/step - loss: 0.8134 - acc: 0.7244 - val_loss: 0.8958 - val_acc: 0.7225\n",
      "Epoch 10/10\n",
      "1350/1350 [==============================] - 0s 63us/step - loss: 0.7659 - acc: 0.7281 - val_loss: 0.8723 - val_acc: 0.7188\n"
     ]
    }
   ],
   "source": [
    "#creating network\n",
    "from keras import regularizers\n",
    "model = models.Sequential()\n",
    "\n",
    "model.add(layers.Dense(16, activation = 'relu', kernel_regularizer= regularizers.l2(0.001), input_shape= (1500,)))\n",
    "#model.add(layers.Dropout(0.2))\n",
    "model.add(layers.Dense(16, activation = 'relu', kernel_regularizer= regularizers.l2(0.001)))\n",
    "model.add(layers.Dense(5, activation = 'softmax'))\n",
    "\n",
    "model.compile(optimizer = 'rmsprop',\n",
    "             loss = 'categorical_crossentropy',\n",
    "             metrics = ['accuracy'])\n",
    "#executing the network\n",
    "history = model.fit(train_x, \n",
    "                    train_y,\n",
    "                   epochs = 10,\n",
    "                   batch_size = 128,\n",
    "                   validation_data =(val_x, val_y))"
   ]
  },
  {
   "cell_type": "code",
   "execution_count": 102,
   "metadata": {},
   "outputs": [
    {
     "name": "stdout",
     "output_type": "stream",
     "text": [
      "1000/1000 [==============================] - 0s 49us/step\n",
      "Loss, Accuracy [0.8303455867767334, 0.738]\n"
     ]
    }
   ],
   "source": [
    "results = model.evaluate(test_x, test_y)\n",
    "print('Loss, Accuracy', results)"
   ]
  },
  {
   "cell_type": "code",
   "execution_count": 66,
   "metadata": {},
   "outputs": [
    {
     "data": {
      "image/png": "[encoded data removed]",
      "text/plain": [
       "<Figure size 432x288 with 1 Axes>"
      ]
     },
     "metadata": {
      "needs_background": "light"
     },
     "output_type": "display_data"
    }
   ],
   "source": [
    "history_dict = history.history\n",
    "loss = history_dict['loss']\n",
    "acc = history_dict['val_loss']\n",
    "\n",
    "epochs = range(0 , len(loss), + 1)\n",
    "#plotting the results to check for overfitting\n",
    "plt.plot(epochs, loss, 'bo', label = 'Training Loss')\n",
    "plt.plot(epochs, acc, 'b', label = 'Validation Loss')\n",
    "plt.title('Training and Validation Loss')\n",
    "plt.xlabel('Epochs')\n",
    "plt.ylabel('Loss')\n",
    "plt.legend()\n",
    "plt.show()\n",
    "#the graph shows that the training begins to cause overfitting after around 10 epochs"
   ]
  },
  {
   "cell_type": "code",
   "execution_count": null,
   "metadata": {},
   "outputs": [],
   "source": []
  }
 ],
 "metadata": {
  "kernelspec": {
   "display_name": "Python 3",
   "language": "python",
   "name": "python3"
  },
  "language_info": {
   "codemirror_mode": {
    "name": "ipython",
    "version": 3
   },
   "file_extension": ".py",
   "mimetype": "text/x-python",
   "name": "python",
   "nbconvert_exporter": "python",
   "pygments_lexer": "ipython3",
   "version": "3.6.8"
  }
 },
 "nbformat": 4,
 "nbformat_minor": 2
}
