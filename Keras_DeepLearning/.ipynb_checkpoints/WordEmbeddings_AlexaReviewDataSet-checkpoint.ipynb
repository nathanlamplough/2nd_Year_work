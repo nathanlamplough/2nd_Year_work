{
 "cells": [
  {
   "cell_type": "code",
   "execution_count": 1,
   "metadata": {},
   "outputs": [
    {
     "name": "stderr",
     "output_type": "stream",
     "text": [
      "Using TensorFlow backend.\n"
     ]
    },
    {
     "data": {
      "text/html": [
       "<div>\n",
       "<style scoped>\n",
       "    .dataframe tbody tr th:only-of-type {\n",
       "        vertical-align: middle;\n",
       "    }\n",
       "\n",
       "    .dataframe tbody tr th {\n",
       "        vertical-align: top;\n",
       "    }\n",
       "\n",
       "    .dataframe thead th {\n",
       "        text-align: right;\n",
       "    }\n",
       "</style>\n",
       "<table border=\"1\" class=\"dataframe\">\n",
       "  <thead>\n",
       "    <tr style=\"text-align: right;\">\n",
       "      <th></th>\n",
       "      <th>rating</th>\n",
       "      <th>date</th>\n",
       "      <th>variation</th>\n",
       "      <th>verified_reviews</th>\n",
       "      <th>feedback</th>\n",
       "    </tr>\n",
       "  </thead>\n",
       "  <tbody>\n",
       "    <tr>\n",
       "      <th>0</th>\n",
       "      <td>5</td>\n",
       "      <td>16-Jul-18</td>\n",
       "      <td>White  Spot</td>\n",
       "      <td>I think it can read my mind</td>\n",
       "      <td>1</td>\n",
       "    </tr>\n",
       "    <tr>\n",
       "      <th>1</th>\n",
       "      <td>4</td>\n",
       "      <td>26-Jul-18</td>\n",
       "      <td>White  Spot</td>\n",
       "      <td>\"It is a good addition to my small space, and ...</td>\n",
       "      <td>1</td>\n",
       "    </tr>\n",
       "    <tr>\n",
       "      <th>2</th>\n",
       "      <td>5</td>\n",
       "      <td>30-Jul-18</td>\n",
       "      <td>Black  Dot</td>\n",
       "      <td>\"Un excelente equipo inteligente al estar cone...</td>\n",
       "      <td>1</td>\n",
       "    </tr>\n",
       "    <tr>\n",
       "      <th>3</th>\n",
       "      <td>5</td>\n",
       "      <td>30-Jul-18</td>\n",
       "      <td>Heather Gray Fabric</td>\n",
       "      <td>Sound quality</td>\n",
       "      <td>1</td>\n",
       "    </tr>\n",
       "    <tr>\n",
       "      <th>4</th>\n",
       "      <td>1</td>\n",
       "      <td>17-Jul-18</td>\n",
       "      <td>Black  Spot</td>\n",
       "      <td>For the size of the screen this thing should b...</td>\n",
       "      <td>0</td>\n",
       "    </tr>\n",
       "    <tr>\n",
       "      <th>5</th>\n",
       "      <td>5</td>\n",
       "      <td>30-Jul-18</td>\n",
       "      <td>Black  Dot</td>\n",
       "      <td>\"This was an impulse buy but turns out I reall...</td>\n",
       "      <td>1</td>\n",
       "    </tr>\n",
       "    <tr>\n",
       "      <th>6</th>\n",
       "      <td>4</td>\n",
       "      <td>30-Jul-18</td>\n",
       "      <td>Black  Dot</td>\n",
       "      <td>\"Overall love it. There are just some commands...</td>\n",
       "      <td>1</td>\n",
       "    </tr>\n",
       "    <tr>\n",
       "      <th>7</th>\n",
       "      <td>5</td>\n",
       "      <td>30-Jul-18</td>\n",
       "      <td>Configuration: Fire TV Stick</td>\n",
       "      <td>\"Love my fire stick and remote, so easy to set...</td>\n",
       "      <td>1</td>\n",
       "    </tr>\n",
       "    <tr>\n",
       "      <th>8</th>\n",
       "      <td>5</td>\n",
       "      <td>30-Jul-18</td>\n",
       "      <td>Black  Spot</td>\n",
       "      <td>\"It was smaller than I had anticipated, and wh...</td>\n",
       "      <td>1</td>\n",
       "    </tr>\n",
       "    <tr>\n",
       "      <th>9</th>\n",
       "      <td>4</td>\n",
       "      <td>30-Jul-18</td>\n",
       "      <td>Black  Show</td>\n",
       "      <td>It's a fun item to have.  Has a lot of udefuln...</td>\n",
       "      <td>1</td>\n",
       "    </tr>\n",
       "  </tbody>\n",
       "</table>\n",
       "</div>"
      ],
      "text/plain": [
       "   rating       date                     variation  \\\n",
       "0       5  16-Jul-18                   White  Spot   \n",
       "1       4  26-Jul-18                   White  Spot   \n",
       "2       5  30-Jul-18                    Black  Dot   \n",
       "3       5  30-Jul-18          Heather Gray Fabric    \n",
       "4       1  17-Jul-18                   Black  Spot   \n",
       "5       5  30-Jul-18                    Black  Dot   \n",
       "6       4  30-Jul-18                    Black  Dot   \n",
       "7       5  30-Jul-18  Configuration: Fire TV Stick   \n",
       "8       5  30-Jul-18                   Black  Spot   \n",
       "9       4  30-Jul-18                   Black  Show   \n",
       "\n",
       "                                    verified_reviews  feedback  \n",
       "0                        I think it can read my mind         1  \n",
       "1  \"It is a good addition to my small space, and ...         1  \n",
       "2  \"Un excelente equipo inteligente al estar cone...         1  \n",
       "3                                      Sound quality         1  \n",
       "4  For the size of the screen this thing should b...         0  \n",
       "5  \"This was an impulse buy but turns out I reall...         1  \n",
       "6  \"Overall love it. There are just some commands...         1  \n",
       "7  \"Love my fire stick and remote, so easy to set...         1  \n",
       "8  \"It was smaller than I had anticipated, and wh...         1  \n",
       "9  It's a fun item to have.  Has a lot of udefuln...         1  "
      ]
     },
     "execution_count": 1,
     "metadata": {},
     "output_type": "execute_result"
    }
   ],
   "source": [
    "import numpy as np\n",
    "import pandas as pd\n",
    "import matplotlib.pyplot as plt\n",
    "from keras import optimizers\n",
    "from keras import losses\n",
    "from keras import metrics\n",
    "from keras import models\n",
    "from keras import layers\n",
    "from keras.models import Sequential\n",
    "from keras.layers import Embedding, Flatten, Dense, Dropout\n",
    "from keras import regularizers\n",
    "dataset1 = pd.read_csv('C:/Users/natha/Desktop/GitRepo/NathanLamplough/Keras_DeepLearning\\Data/amazon_alexa.tsv', delimiter = '\\t', quoting = 3)\n",
    "#shuffling the data using the original index\n",
    "dataset = dataset1.sample(frac=1).reset_index(drop=True)\n",
    "dataset[:10]"
   ]
  },
  {
   "cell_type": "code",
   "execution_count": 2,
   "metadata": {},
   "outputs": [
    {
     "name": "stdout",
     "output_type": "stream",
     "text": [
      "Found 4254 unique tokens. \n"
     ]
    }
   ],
   "source": [
    "from keras.preprocessing.text import Tokenizer\n",
    "from keras.preprocessing.sequence import pad_sequences\n",
    "\n",
    "reviews = dataset.loc[:,'verified_reviews']\n",
    "r_list = reviews.tolist()\n",
    "\n",
    "maxlen = 15\n",
    "training_samples = 1000\n",
    "validation_samples = 1100\n",
    "test_samples = len(reviews) - (training_samples + validation_samples)\n",
    "max_words = 2500\n",
    "\n",
    "#tokenising text into tfidf vectors taking top 2500 words\n",
    "tokenizer = Tokenizer(num_words = max_words)\n",
    "tokenizer.fit_on_texts(r_list)\n",
    "sequences = tokenizer.texts_to_sequences(r_list)\n",
    "word_index = tokenizer.word_index\n",
    "print('Found %s unique tokens. ' % len(word_index))\n",
    "\n",
    "labels1 = np.asarray(dataset.loc[:,'rating'])"
   ]
  },
  {
   "cell_type": "code",
   "execution_count": 3,
   "metadata": {},
   "outputs": [
    {
     "name": "stdout",
     "output_type": "stream",
     "text": [
      "Shape of data tensor:  (3150, 15)\n",
      "Shape of label tensor:  (3150, 5)\n"
     ]
    }
   ],
   "source": [
    "from keras.utils import to_categorical\n",
    "#fill reviews less than maxlen with 0's\n",
    "data = pad_sequences(sequences, maxlen=maxlen)\n",
    "\n",
    "#converting rating to zero indexing and then to one hot vectors\n",
    "\n",
    "def convertToZeroIndex(l):\n",
    "    for i in range(len(l)):\n",
    "        l[i] = l[i] - 1\n",
    "label1 = convertToZeroIndex(labels1)\n",
    "labels = to_categorical(labels1)\n",
    "\n",
    "print('Shape of data tensor: ', data.shape)\n",
    "print('Shape of label tensor: ', labels.shape)"
   ]
  },
  {
   "cell_type": "code",
   "execution_count": 4,
   "metadata": {},
   "outputs": [],
   "source": [
    "#splitting data into training, validating and test data\n",
    "x_train = data[:training_samples]\n",
    "y_train = labels[:training_samples]\n",
    "x_val = data[training_samples: training_samples + validation_samples]\n",
    "y_val = labels[training_samples: training_samples + validation_samples]\n",
    "x_test = data[training_samples + validation_samples:]\n",
    "y_test = labels[training_samples + validation_samples:]"
   ]
  },
  {
   "cell_type": "code",
   "execution_count": 5,
   "metadata": {},
   "outputs": [
    {
     "name": "stdout",
     "output_type": "stream",
     "text": [
      "_________________________________________________________________\n",
      "Layer (type)                 Output Shape              Param #   \n",
      "=================================================================\n",
      "embedding_1 (Embedding)      (None, 15, 100)           250000    \n",
      "_________________________________________________________________\n",
      "flatten_1 (Flatten)          (None, 1500)              0         \n",
      "_________________________________________________________________\n",
      "dense_1 (Dense)              (None, 8)                 12008     \n",
      "_________________________________________________________________\n",
      "dropout_1 (Dropout)          (None, 8)                 0         \n",
      "_________________________________________________________________\n",
      "dense_2 (Dense)              (None, 8)                 72        \n",
      "_________________________________________________________________\n",
      "dense_3 (Dense)              (None, 5)                 45        \n",
      "=================================================================\n",
      "Total params: 262,125\n",
      "Trainable params: 262,125\n",
      "Non-trainable params: 0\n",
      "_________________________________________________________________\n",
      "Train on 1000 samples, validate on 1100 samples\n",
      "Epoch 1/12\n",
      "1000/1000 [==============================] - 0s 350us/step - loss: 1.5178 - acc: 0.4260 - val_loss: 1.3875 - val_acc: 0.7018\n",
      "Epoch 2/12\n",
      "1000/1000 [==============================] - 0s 124us/step - loss: 1.2418 - acc: 0.6980 - val_loss: 1.0741 - val_acc: 0.7000\n",
      "Epoch 3/12\n",
      "1000/1000 [==============================] - 0s 108us/step - loss: 1.0393 - acc: 0.6940 - val_loss: 0.9670 - val_acc: 0.7000\n",
      "Epoch 4/12\n",
      "1000/1000 [==============================] - 0s 112us/step - loss: 0.9311 - acc: 0.7040 - val_loss: 0.9203 - val_acc: 0.7000\n",
      "Epoch 5/12\n",
      "1000/1000 [==============================] - 0s 110us/step - loss: 0.8358 - acc: 0.7120 - val_loss: 0.8907 - val_acc: 0.7009\n",
      "Epoch 6/12\n",
      "1000/1000 [==============================] - 0s 113us/step - loss: 0.7605 - acc: 0.7280 - val_loss: 0.8743 - val_acc: 0.7027\n",
      "Epoch 7/12\n",
      "1000/1000 [==============================] - 0s 113us/step - loss: 0.7006 - acc: 0.7460 - val_loss: 0.8638 - val_acc: 0.7127\n",
      "Epoch 8/12\n",
      "1000/1000 [==============================] - 0s 113us/step - loss: 0.6411 - acc: 0.7690 - val_loss: 0.8530 - val_acc: 0.7145\n",
      "Epoch 9/12\n",
      "1000/1000 [==============================] - 0s 109us/step - loss: 0.5733 - acc: 0.7870 - val_loss: 0.8466 - val_acc: 0.7118\n",
      "Epoch 10/12\n",
      "1000/1000 [==============================] - 0s 118us/step - loss: 0.5275 - acc: 0.7910 - val_loss: 0.8455 - val_acc: 0.7091\n",
      "Epoch 11/12\n",
      "1000/1000 [==============================] - 0s 124us/step - loss: 0.4761 - acc: 0.8120 - val_loss: 0.8730 - val_acc: 0.7145\n",
      "Epoch 12/12\n",
      "1000/1000 [==============================] - 0s 105us/step - loss: 0.4278 - acc: 0.8240 - val_loss: 0.8827 - val_acc: 0.7136\n"
     ]
    }
   ],
   "source": [
    "model = Sequential()\n",
    "\n",
    "#creating word embedding using corpus of reviews\n",
    "model.add(Embedding(max_words, 100, input_length = maxlen))\n",
    "model.add(Flatten())\n",
    "model.add(Dense(8, activation = 'relu'))\n",
    "model.add(Dropout(0.2))\n",
    "model.add(Dense(8, activation = 'relu'))\n",
    "model.add(Dense(5, activation = 'softmax'))\n",
    "model.summary()\n",
    "\n",
    "model.compile(optimizer = 'rmsprop',\n",
    "             loss = 'categorical_crossentropy',\n",
    "             metrics=['acc'])\n",
    "\n",
    "history = model.fit(x_train, y_train,\n",
    "                   epochs = 12,\n",
    "                   batch_size = 64,\n",
    "                   validation_data = (x_val, y_val))"
   ]
  },
  {
   "cell_type": "code",
   "execution_count": 6,
   "metadata": {},
   "outputs": [
    {
     "name": "stdout",
     "output_type": "stream",
     "text": [
      "1050/1050 [==============================] - 0s 45us/step\n"
     ]
    },
    {
     "data": {
      "text/plain": [
       "[0.7565975320906866, 0.7666666664396014]"
      ]
     },
     "execution_count": 6,
     "metadata": {},
     "output_type": "execute_result"
    }
   ],
   "source": [
    "results = model.evaluate(x_test, y_test)\n",
    "results"
   ]
  },
  {
   "cell_type": "code",
   "execution_count": 7,
   "metadata": {},
   "outputs": [
    {
     "data": {
      "image/png": "[encoded data removed]",
      "text/plain": [
       "<Figure size 432x288 with 1 Axes>"
      ]
     },
     "metadata": {
      "needs_background": "light"
     },
     "output_type": "display_data"
    }
   ],
   "source": [
    "history_dict = history.history\n",
    "loss = history_dict['loss']\n",
    "acc = history_dict['val_loss']\n",
    "\n",
    "epochs = range(0 , len(loss), + 1)\n",
    "#plotting the results to check for overfitting\n",
    "plt.plot(epochs, loss, 'bo', label = 'Training Loss')\n",
    "plt.plot(epochs, acc, 'b', label = 'Validation Loss')\n",
    "plt.title('Training and Validation Loss')\n",
    "plt.xlabel('Epochs')\n",
    "plt.ylabel('Loss')\n",
    "plt.legend()\n",
    "plt.show()"
   ]
  },
  {
   "cell_type": "code",
   "execution_count": null,
   "metadata": {},
   "outputs": [],
   "source": []
  }
 ],
 "metadata": {
  "kernelspec": {
   "display_name": "Python 3",
   "language": "python",
   "name": "python3"
  },
  "language_info": {
   "codemirror_mode": {
    "name": "ipython",
    "version": 3
   },
   "file_extension": ".py",
   "mimetype": "text/x-python",
   "name": "python",
   "nbconvert_exporter": "python",
   "pygments_lexer": "ipython3",
   "version": "3.6.8"
  }
 },
 "nbformat": 4,
 "nbformat_minor": 2
}
