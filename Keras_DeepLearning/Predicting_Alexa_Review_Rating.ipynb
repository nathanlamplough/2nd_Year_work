{
 "cells": [
  {
   "cell_type": "markdown",
   "metadata": {},
   "source": [
    "Predicting the star rating of an Amazon Alexa review based off the review text using a neural network"
   ]
  },
  {
   "cell_type": "code",
   "execution_count": 63,
   "metadata": {},
   "outputs": [
    {
     "data": {
      "text/html": [
       "<div>\n",
       "<style scoped>\n",
       "    .dataframe tbody tr th:only-of-type {\n",
       "        vertical-align: middle;\n",
       "    }\n",
       "\n",
       "    .dataframe tbody tr th {\n",
       "        vertical-align: top;\n",
       "    }\n",
       "\n",
       "    .dataframe thead th {\n",
       "        text-align: right;\n",
       "    }\n",
       "</style>\n",
       "<table border=\"1\" class=\"dataframe\">\n",
       "  <thead>\n",
       "    <tr style=\"text-align: right;\">\n",
       "      <th></th>\n",
       "      <th>rating</th>\n",
       "      <th>date</th>\n",
       "      <th>variation</th>\n",
       "      <th>verified_reviews</th>\n",
       "      <th>feedback</th>\n",
       "    </tr>\n",
       "  </thead>\n",
       "  <tbody>\n",
       "    <tr>\n",
       "      <th>0</th>\n",
       "      <td>5</td>\n",
       "      <td>31-Jul-18</td>\n",
       "      <td>Charcoal Fabric</td>\n",
       "      <td>Love my Echo!</td>\n",
       "      <td>1</td>\n",
       "    </tr>\n",
       "    <tr>\n",
       "      <th>1</th>\n",
       "      <td>5</td>\n",
       "      <td>31-Jul-18</td>\n",
       "      <td>Charcoal Fabric</td>\n",
       "      <td>Loved it!</td>\n",
       "      <td>1</td>\n",
       "    </tr>\n",
       "    <tr>\n",
       "      <th>2</th>\n",
       "      <td>4</td>\n",
       "      <td>31-Jul-18</td>\n",
       "      <td>Walnut Finish</td>\n",
       "      <td>\"Sometimes while playing a game, you can answe...</td>\n",
       "      <td>1</td>\n",
       "    </tr>\n",
       "    <tr>\n",
       "      <th>3</th>\n",
       "      <td>5</td>\n",
       "      <td>31-Jul-18</td>\n",
       "      <td>Charcoal Fabric</td>\n",
       "      <td>\"I have had a lot of fun with this thing. My 4...</td>\n",
       "      <td>1</td>\n",
       "    </tr>\n",
       "    <tr>\n",
       "      <th>4</th>\n",
       "      <td>5</td>\n",
       "      <td>31-Jul-18</td>\n",
       "      <td>Charcoal Fabric</td>\n",
       "      <td>Music</td>\n",
       "      <td>1</td>\n",
       "    </tr>\n",
       "    <tr>\n",
       "      <th>5</th>\n",
       "      <td>5</td>\n",
       "      <td>31-Jul-18</td>\n",
       "      <td>Heather Gray Fabric</td>\n",
       "      <td>\"I received the echo as a gift. I needed anoth...</td>\n",
       "      <td>1</td>\n",
       "    </tr>\n",
       "    <tr>\n",
       "      <th>6</th>\n",
       "      <td>3</td>\n",
       "      <td>31-Jul-18</td>\n",
       "      <td>Sandstone Fabric</td>\n",
       "      <td>\"Without having a cellphone, I cannot use many...</td>\n",
       "      <td>1</td>\n",
       "    </tr>\n",
       "    <tr>\n",
       "      <th>7</th>\n",
       "      <td>5</td>\n",
       "      <td>31-Jul-18</td>\n",
       "      <td>Charcoal Fabric</td>\n",
       "      <td>I think this is the 5th one I've purchased. I'...</td>\n",
       "      <td>1</td>\n",
       "    </tr>\n",
       "    <tr>\n",
       "      <th>8</th>\n",
       "      <td>5</td>\n",
       "      <td>30-Jul-18</td>\n",
       "      <td>Heather Gray Fabric</td>\n",
       "      <td>looks great</td>\n",
       "      <td>1</td>\n",
       "    </tr>\n",
       "    <tr>\n",
       "      <th>9</th>\n",
       "      <td>5</td>\n",
       "      <td>30-Jul-18</td>\n",
       "      <td>Heather Gray Fabric</td>\n",
       "      <td>\"Love it! I’ve listened to songs I haven’t hea...</td>\n",
       "      <td>1</td>\n",
       "    </tr>\n",
       "  </tbody>\n",
       "</table>\n",
       "</div>"
      ],
      "text/plain": [
       "   rating       date             variation  \\\n",
       "0       5  31-Jul-18      Charcoal Fabric    \n",
       "1       5  31-Jul-18      Charcoal Fabric    \n",
       "2       4  31-Jul-18        Walnut Finish    \n",
       "3       5  31-Jul-18      Charcoal Fabric    \n",
       "4       5  31-Jul-18      Charcoal Fabric    \n",
       "5       5  31-Jul-18  Heather Gray Fabric    \n",
       "6       3  31-Jul-18     Sandstone Fabric    \n",
       "7       5  31-Jul-18      Charcoal Fabric    \n",
       "8       5  30-Jul-18  Heather Gray Fabric    \n",
       "9       5  30-Jul-18  Heather Gray Fabric    \n",
       "\n",
       "                                    verified_reviews  feedback  \n",
       "0                                      Love my Echo!         1  \n",
       "1                                          Loved it!         1  \n",
       "2  \"Sometimes while playing a game, you can answe...         1  \n",
       "3  \"I have had a lot of fun with this thing. My 4...         1  \n",
       "4                                              Music         1  \n",
       "5  \"I received the echo as a gift. I needed anoth...         1  \n",
       "6  \"Without having a cellphone, I cannot use many...         1  \n",
       "7  I think this is the 5th one I've purchased. I'...         1  \n",
       "8                                        looks great         1  \n",
       "9  \"Love it! I’ve listened to songs I haven’t hea...         1  "
      ]
     },
     "execution_count": 63,
     "metadata": {},
     "output_type": "execute_result"
    }
   ],
   "source": [
    "import numpy as np\n",
    "import pandas as pd\n",
    "import matplotlib.pyplot as plt\n",
    "from keras import optimizers\n",
    "from keras import losses\n",
    "from keras import metrics\n",
    "from keras import models\n",
    "from keras import layers\n",
    "dataset = pd.read_csv('C:/Users/natha/ThirdYear/Keras_Projects/Data/amazon_alexa.tsv', delimiter = '\\t', quoting = 3)\n",
    "dataset[:10]"
   ]
  },
  {
   "cell_type": "code",
   "execution_count": 26,
   "metadata": {},
   "outputs": [],
   "source": [
    "#remove stop words and stem(doing -> do, trusted -> trust)\n",
    "import re\n",
    "import nltk\n",
    "from nltk.corpus import stopwords\n",
    "from nltk.stem.porter import PorterStemmer\n",
    "corpus=[]\n",
    "for i in range(0, len(dataset)):\n",
    "    review = re.sub('[^a-zA-Z]', ' ', dataset['verified_reviews'][i] )\n",
    "    review=review.lower()\n",
    "    review=review.split()\n",
    "    ps=PorterStemmer()\n",
    "    review=[ps.stem(word) for word in review if not word in set(stopwords.words('english'))]\n",
    "    review=' '.join(review)\n",
    "    corpus.append(review)"
   ]
  },
  {
   "cell_type": "code",
   "execution_count": 29,
   "metadata": {},
   "outputs": [
    {
     "data": {
      "text/plain": [
       "array([5, 5, 4, ..., 5, 5, 4], dtype=int64)"
      ]
     },
     "execution_count": 29,
     "metadata": {},
     "output_type": "execute_result"
    }
   ],
   "source": [
    "#creating a bag of words model\n",
    "from sklearn.feature_extraction.text import CountVectorizer\n",
    "cv=CountVectorizer(max_features=1500)\n",
    "X=cv.fit_transform(corpus).toarray()\n",
    "y=dataset.iloc[:,0].values"
   ]
  },
  {
   "cell_type": "code",
   "execution_count": 43,
   "metadata": {},
   "outputs": [],
   "source": [
    "#changing ratings label to one hot vectors e.g 3 star rating would be [0,0,1,0,0]\n",
    "def to_one_hot(labels, dimension = 5):\n",
    "    results = np.zeros((len(labels), dimension))\n",
    "    for i, label in enumerate(labels):\n",
    "        results[i, label-1] = 1.\n",
    "    return results\n",
    "one_hot_labels = to_one_hot(y)\n",
    "\n",
    "#splitting data in to train, validation and test sets\n",
    "\n",
    "val_y = one_hot_labels[:800]\n",
    "train_y = one_hot_labels[800:2150]\n",
    "test_y = one_hot_labels[2150:3150]\n",
    "\n",
    "val_x = X[:800]\n",
    "train_x = X[800:2150]\n",
    "test_x = X[2150:3150]"
   ]
  },
  {
   "cell_type": "code",
   "execution_count": 67,
   "metadata": {},
   "outputs": [
    {
     "name": "stdout",
     "output_type": "stream",
     "text": [
      "Train on 1350 samples, validate on 800 samples\n",
      "Epoch 1/25\n",
      "1350/1350 [==============================] - 0s 275us/step - loss: 1.5041 - acc: 0.6696 - val_loss: 1.4311 - val_acc: 0.7388\n",
      "Epoch 2/25\n",
      "1350/1350 [==============================] - 0s 46us/step - loss: 1.3776 - acc: 0.7141 - val_loss: 1.3430 - val_acc: 0.7388\n",
      "Epoch 3/25\n",
      "1350/1350 [==============================] - 0s 41us/step - loss: 1.2889 - acc: 0.7148 - val_loss: 1.2649 - val_acc: 0.7388\n",
      "Epoch 4/25\n",
      "1350/1350 [==============================] - 0s 45us/step - loss: 1.2122 - acc: 0.7148 - val_loss: 1.1976 - val_acc: 0.7388\n",
      "Epoch 5/25\n",
      "1350/1350 [==============================] - 0s 44us/step - loss: 1.1405 - acc: 0.7148 - val_loss: 1.1366 - val_acc: 0.7388\n",
      "Epoch 6/25\n",
      "1350/1350 [==============================] - 0s 63us/step - loss: 1.0723 - acc: 0.7156 - val_loss: 1.0797 - val_acc: 0.7388\n",
      "Epoch 7/25\n",
      "1350/1350 [==============================] - 0s 47us/step - loss: 1.0063 - acc: 0.7185 - val_loss: 1.0235 - val_acc: 0.7388\n",
      "Epoch 8/25\n",
      "1350/1350 [==============================] - 0s 44us/step - loss: 0.9458 - acc: 0.7207 - val_loss: 0.9725 - val_acc: 0.7412\n",
      "Epoch 9/25\n",
      "1350/1350 [==============================] - 0s 50us/step - loss: 0.8902 - acc: 0.7244 - val_loss: 0.9276 - val_acc: 0.7412\n",
      "Epoch 10/25\n",
      "1350/1350 [==============================] - 0s 49us/step - loss: 0.8405 - acc: 0.7296 - val_loss: 0.8878 - val_acc: 0.7425\n",
      "Epoch 11/25\n",
      "1350/1350 [==============================] - 0s 46us/step - loss: 0.7961 - acc: 0.7341 - val_loss: 0.8546 - val_acc: 0.7450\n",
      "Epoch 12/25\n",
      "1350/1350 [==============================] - 0s 41us/step - loss: 0.7571 - acc: 0.7400 - val_loss: 0.8271 - val_acc: 0.7462\n",
      "Epoch 13/25\n",
      "1350/1350 [==============================] - 0s 49us/step - loss: 0.7223 - acc: 0.7459 - val_loss: 0.8047 - val_acc: 0.7475\n",
      "Epoch 14/25\n",
      "1350/1350 [==============================] - 0s 53us/step - loss: 0.6922 - acc: 0.7541 - val_loss: 0.7878 - val_acc: 0.7488\n",
      "Epoch 15/25\n",
      "1350/1350 [==============================] - 0s 45us/step - loss: 0.6653 - acc: 0.7600 - val_loss: 0.7746 - val_acc: 0.7500\n",
      "Epoch 16/25\n",
      "1350/1350 [==============================] - 0s 44us/step - loss: 0.6418 - acc: 0.7622 - val_loss: 0.7638 - val_acc: 0.7512\n",
      "Epoch 17/25\n",
      "1350/1350 [==============================] - 0s 44us/step - loss: 0.6205 - acc: 0.7659 - val_loss: 0.7561 - val_acc: 0.7538\n",
      "Epoch 18/25\n",
      "1350/1350 [==============================] - 0s 51us/step - loss: 0.6006 - acc: 0.7704 - val_loss: 0.7514 - val_acc: 0.7562\n",
      "Epoch 19/25\n",
      "1350/1350 [==============================] - 0s 44us/step - loss: 0.5819 - acc: 0.7711 - val_loss: 0.7470 - val_acc: 0.7562\n",
      "Epoch 20/25\n",
      "1350/1350 [==============================] - 0s 55us/step - loss: 0.5647 - acc: 0.7770 - val_loss: 0.7433 - val_acc: 0.7512\n",
      "Epoch 21/25\n",
      "1350/1350 [==============================] - 0s 58us/step - loss: 0.5479 - acc: 0.7867 - val_loss: 0.7431 - val_acc: 0.7525\n",
      "Epoch 22/25\n",
      "1350/1350 [==============================] - 0s 54us/step - loss: 0.5325 - acc: 0.7874 - val_loss: 0.7411 - val_acc: 0.7525\n",
      "Epoch 23/25\n",
      "1350/1350 [==============================] - 0s 56us/step - loss: 0.5177 - acc: 0.7933 - val_loss: 0.7427 - val_acc: 0.7512\n",
      "Epoch 24/25\n",
      "1350/1350 [==============================] - 0s 56us/step - loss: 0.5037 - acc: 0.7985 - val_loss: 0.7450 - val_acc: 0.7525\n",
      "Epoch 25/25\n",
      "1350/1350 [==============================] - 0s 56us/step - loss: 0.4901 - acc: 0.8007 - val_loss: 0.7469 - val_acc: 0.7488\n"
     ]
    }
   ],
   "source": [
    "#creating network\n",
    "model = models.Sequential()\n",
    "\n",
    "model.add(layers.Dense(8, activation = 'relu', input_shape= (1500,)))\n",
    "model.add(layers.Dense(8, activation = 'relu'))\n",
    "model.add(layers.Dense(5, activation = 'softmax'))\n",
    "\n",
    "model.compile(optimizer = 'rmsprop',\n",
    "             loss = 'categorical_crossentropy',\n",
    "             metrics = ['accuracy'])\n",
    "#executing the network\n",
    "history = model.fit(train_x, \n",
    "                    train_y,\n",
    "                   epochs = 25,\n",
    "                   batch_size = 128,\n",
    "                   validation_data =(val_x, val_y))"
   ]
  },
  {
   "cell_type": "code",
   "execution_count": 68,
   "metadata": {},
   "outputs": [
    {
     "name": "stdout",
     "output_type": "stream",
     "text": [
      "1000/1000 [==============================] - 0s 36us/step\n",
      "Loss, Accuracy [0.8011757717132568, 0.733]\n"
     ]
    }
   ],
   "source": [
    "results = model.evaluate(test_x, test_y)\n",
    "print('Loss, Accuracy', results)"
   ]
  },
  {
   "cell_type": "code",
   "execution_count": 69,
   "metadata": {},
   "outputs": [
    {
     "data": {
      "image/png": "[encoded data removed]",
      "text/plain": [
       "<Figure size 432x288 with 1 Axes>"
      ]
     },
     "metadata": {
      "needs_background": "light"
     },
     "output_type": "display_data"
    }
   ],
   "source": [
    "history_dict = history.history\n",
    "loss = history_dict['loss']\n",
    "acc = history_dict['val_loss']\n",
    "\n",
    "epochs = range(0 , len(loss), + 1)\n",
    "#plotting the results to check for overfitting\n",
    "plt.plot(epochs, loss, 'bo', label = 'Training Loss')\n",
    "plt.plot(epochs, acc, 'b', label = 'Validation Loss')\n",
    "plt.title('Training and Validation Loss')\n",
    "plt.xlabel('Epochs')\n",
    "plt.ylabel('Loss')\n",
    "plt.legend()\n",
    "plt.show()\n",
    "#the graph shows that the training begins to cause overfitting after around 10 epochs"
   ]
  },
  {
   "cell_type": "code",
   "execution_count": null,
   "metadata": {},
   "outputs": [],
   "source": []
  }
 ],
 "metadata": {
  "kernelspec": {
   "display_name": "Python 3",
   "language": "python",
   "name": "python3"
  },
  "language_info": {
   "codemirror_mode": {
    "name": "ipython",
    "version": 3
   },
   "file_extension": ".py",
   "mimetype": "text/x-python",
   "name": "python",
   "nbconvert_exporter": "python",
   "pygments_lexer": "ipython3",
   "version": "3.6.8"
  }
 },
 "nbformat": 4,
 "nbformat_minor": 2
}
