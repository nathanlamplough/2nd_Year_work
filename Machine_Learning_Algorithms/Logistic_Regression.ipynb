{
 "cells": [
  {
   "cell_type": "code",
   "execution_count": 1,
   "metadata": {},
   "outputs": [],
   "source": [
    "import numpy as np\n",
    "import seaborn as sns\n",
    "sns.set(style='whitegrid')\n",
    "import pandas as pd\n",
    "import matplotlib.pyplot as plt\n",
    "import tensorflow as tf\n",
    "\n",
    "data = pd.read_excel('C:/Users/natha/Desktop/GitRepo/NathanLamplough/Data/credit_card.xls', delimiter = '\\t', quoting = 0)\n",
    "data = data[1:]\n",
    "data = data.sample(frac=1).reset_index(drop=True)"
   ]
  },
  {
   "cell_type": "code",
   "execution_count": 2,
   "metadata": {},
   "outputs": [
    {
     "name": "stdout",
     "output_type": "stream",
     "text": [
      "[[20000 1 3 2 29 -1 -1 -1 -1 -1 -1 4453 7997 6573 7422 4381 11718 8019\n",
      "  6779 7547 4589 12000 7556]\n",
      " [250000 1 1 1 46 -1 -1 -1 -1 -1 -1 1197 -19 3121 2372 502 1979 0 3140\n",
      "  2387 504 1989 19150]\n",
      " [90000 2 2 2 30 0 0 0 0 2 2 75382 73980 75036 77094 75708 76610 3350\n",
      "  3300 5500 1600 3950 0]\n",
      " [110000 2 1 2 26 0 0 0 0 -2 -2 104804 107979 93600 0 0 0 4988 1872 0 0 0\n",
      "  0]\n",
      " [160000 2 1 1 47 1 2 0 0 2 0 89006 86694 88898 94289 91875 94405 0 4500\n",
      "  7800 0 4000 3700]]\n"
     ]
    },
    {
     "data": {
      "text/plain": [
       "array([0, 1, 1, 0, 1], dtype=object)"
      ]
     },
     "execution_count": 2,
     "metadata": {},
     "output_type": "execute_result"
    }
   ],
   "source": [
    "X = data.drop(labels=['Y'], axis = 1).values\n",
    "Y = data.Y.values\n",
    "print(X[:5])\n",
    "Y[:5]"
   ]
  },
  {
   "cell_type": "code",
   "execution_count": 3,
   "metadata": {},
   "outputs": [],
   "source": [
    "from sklearn.model_selection import train_test_split\n",
    "x_train, x_test, y_train, y_test = train_test_split(X,Y, test_size = 0.33)\n"
   ]
  },
  {
   "cell_type": "code",
   "execution_count": 4,
   "metadata": {},
   "outputs": [],
   "source": [
    "def min_max_normalized(data):\n",
    "    col_max = np.max(data, axis=0)\n",
    "    col_min = np.min(data, axis=0)\n",
    "    return np.divide(data - col_min, col_max - col_min)"
   ]
  },
  {
   "cell_type": "code",
   "execution_count": 5,
   "metadata": {},
   "outputs": [],
   "source": [
    "x_train = min_max_normalized(x_train)\n",
    "x_test = min_max_normalized(x_test)"
   ]
  },
  {
   "cell_type": "code",
   "execution_count": 8,
   "metadata": {},
   "outputs": [],
   "source": [
    "inp = tf.Variable(tf.random_normal(shape=[23,1]))\n",
    "b = tf.Variable(tf.random_normal(shape=[1,1]))\n",
    "\n",
    "init = tf.global_variables_initializer()\n",
    "sess = tf.Session()\n",
    "sess.run(init)"
   ]
  },
  {
   "cell_type": "code",
   "execution_count": 10,
   "metadata": {},
   "outputs": [],
   "source": [
    "data = tf.placeholder(dtype = tf.float32, shape=[None, 23])\n",
    "target = tf.placeholder(dtype = tf.float32, shape=[None,1])\n",
    "mod = tf.matmul(data, inp) + b"
   ]
  },
  {
   "cell_type": "code",
   "execution_count": 11,
   "metadata": {},
   "outputs": [],
   "source": [
    "loss = tf.reduce_mean(tf.nn.sigmoid_cross_entropy_with_logits(logits=mod, labels = target))"
   ]
  },
  {
   "cell_type": "code",
   "execution_count": 12,
   "metadata": {},
   "outputs": [],
   "source": [
    "learning_rate = 0.003\n",
    "batch_size = 30\n",
    "iter_num = 100"
   ]
  },
  {
   "cell_type": "code",
   "execution_count": 13,
   "metadata": {},
   "outputs": [],
   "source": [
    "opt = tf.train.GradientDescentOptimizer(learning_rate)"
   ]
  },
  {
   "cell_type": "code",
   "execution_count": 14,
   "metadata": {},
   "outputs": [],
   "source": [
    "goal = opt.minimize(loss)"
   ]
  },
  {
   "cell_type": "code",
   "execution_count": 16,
   "metadata": {},
   "outputs": [],
   "source": [
    "prediction = tf.round(tf.sigmoid(mod))\n",
    "\n",
    "correct = tf.cast(tf.equal(prediction, target), dtype = tf.float32)\n",
    "accuracy = tf.reduce_mean(correct)"
   ]
  },
  {
   "cell_type": "code",
   "execution_count": 17,
   "metadata": {},
   "outputs": [],
   "source": [
    "loss_trace = []\n",
    "train_acc = []\n",
    "test_acc = []"
   ]
  },
  {
   "cell_type": "code",
   "execution_count": 20,
   "metadata": {},
   "outputs": [
    {
     "name": "stdout",
     "output_type": "stream",
     "text": [
      "epoch:  100 loss: 0.964892 train_acc: 0.279851 test_acc: 0.291010\n"
     ]
    }
   ],
   "source": [
    "for epoch in range(iter_num):\n",
    "    batch_index = np.random.choice(len(x_train), size = batch_size)\n",
    "    batch_train_X = x_train[batch_index]\n",
    "    batch_train_Y = np.matrix(y_train[batch_index]).T\n",
    "    sess.run(goal, feed_dict={data: batch_train_X, target: batch_train_Y})\n",
    "    temp_loss = sess.run(loss, feed_dict={data: batch_train_X, target: batch_train_Y})\n",
    "    temp_train_acc = sess.run(accuracy, feed_dict={data: x_train, target: np.matrix(y_train).T})\n",
    "    temp_test_acc = sess.run(accuracy, feed_dict={data: x_test, target: np.matrix(y_test).T})\n",
    "    \n",
    "    loss_trace.append(temp_loss)\n",
    "    train_acc.append(temp_train_acc)\n",
    "    test_acc.append(temp_test_acc)\n",
    "    \n",
    "    if(epoch + 1) % 100 == 0:\n",
    "        print('epoch: {:4d} loss: {:5f} train_acc: {:5f} test_acc: {:5f}'.format(epoch + 1, temp_loss,\n",
    "                                                                          temp_train_acc, temp_test_acc))"
   ]
  },
  {
   "cell_type": "code",
   "execution_count": null,
   "metadata": {},
   "outputs": [],
   "source": []
  }
 ],
 "metadata": {
  "kernelspec": {
   "display_name": "Python 3",
   "language": "python",
   "name": "python3"
  },
  "language_info": {
   "codemirror_mode": {
    "name": "ipython",
    "version": 3
   },
   "file_extension": ".py",
   "mimetype": "text/x-python",
   "name": "python",
   "nbconvert_exporter": "python",
   "pygments_lexer": "ipython3",
   "version": "3.6.8"
  }
 },
 "nbformat": 4,
 "nbformat_minor": 2
}
